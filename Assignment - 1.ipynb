{
 "cells": [
  {
   "cell_type": "markdown",
   "id": "af861e9f",
   "metadata": {},
   "source": [
    "# ASSIGNMENT - 1"
   ]
  },
  {
   "cell_type": "raw",
   "id": "d4465703",
   "metadata": {},
   "source": [
    "INEURON - DATA SCIENCE - SAHIL GAUTAM"
   ]
  },
  {
   "cell_type": "raw",
   "id": "50c372f5",
   "metadata": {},
   "source": [
    "Q1. In the below elements which of them are values or an expression? eg:- values can be integer or string and expressions will be mathematical operators.\n",
    "\n",
    "~ Values - 'hello' , 6 , -87.8\n",
    "  Expressions - *, -, /, +\n",
    "\n",
    "\n",
    "Q2. What is the difference between string and variable?\n",
    "\n",
    "~ A string is a line or comment that we write inside the function for execution followed by inverted commas \" and brackets for ex. print(\"My Name is Sahil\") whereas a variable is a local/global instance where you can store the data or define a value. For ex. a = 10, b=12\n",
    "\n",
    "\n",
    "Q3. Describe three different data types.\n",
    "\n",
    "~ Three different data types are:\n",
    "1. Character: Character data type is used for storing characters. Keyword used for character data type is char\n",
    "\n",
    "2. Floating Point: Floating Point data type is used for storing single precision floating point values or decimal values. Keyword used for floating point data type is float.\n",
    "\n",
    "3. Integer: Keyword used for integer data types is int.\n",
    "\n",
    "\n",
    "Q4. What is an expression made up of? What do all expressions do?\n",
    "\n",
    "~ Expression is made up of values, containers, and mathematical operators (operands) For ex. a = 55 - 21. \n",
    "Expressions are used to evaluate the values or represent the result on the screen.\n",
    "\n",
    "\n",
    "Q5. This assignment statements, like spam = 10. What is the difference between an expression and a statement?\n",
    "\n",
    "~ Expression is made up of values, containers, and mathematical operators (operands) For ex. a = 55 - 21 whereas a statement is a line or a command that python executes with the help of print().\n",
    "\n",
    "\n",
    "Q6. After running the following code, what does the variable bacon contain?\n",
    "bacon = 22\n",
    "bacon + 1\n",
    "\n",
    "~ Result after executing the code is 23.\n",
    "\n",
    "\n",
    "Q7. What should the values of the following two terms be?\n",
    "'spam' + 'spamspam'\n",
    "'spam' * 3\n",
    "\n",
    "~ Both the terms gave same result : 'spamspamspam'\n",
    "\n",
    "\n",
    "Q8. Why is eggs a valid variable name while 100 is invalid?\n",
    "\n",
    "~ Eggs is a valid name while 100 is invalid because we can give any variable an integer name as it should start with a string i.e alphabet. For ex. eggs100t \n",
    "\n",
    "\n",
    "Q9. What three functions can be used to get the integer, floating-point number, or string version of a value?\n",
    "\n",
    "~ We can use int(), float(), str()\n",
    "\n",
    "Q10. Why does this expression cause an error? How can you fix it?\n",
    "'I have eaten ' + 99 + ' burritos.'\n",
    "\n",
    "~ This expression shows error because it  can only concatenate str (not \"int\") to str. So we have to do typecasting i.e str('I have eaten') + str('99') + str('burritos')"
   ]
  }
 ],
 "metadata": {
  "kernelspec": {
   "display_name": "Python 3 (ipykernel)",
   "language": "python",
   "name": "python3"
  },
  "language_info": {
   "codemirror_mode": {
    "name": "ipython",
    "version": 3
   },
   "file_extension": ".py",
   "mimetype": "text/x-python",
   "name": "python",
   "nbconvert_exporter": "python",
   "pygments_lexer": "ipython3",
   "version": "3.9.7"
  }
 },
 "nbformat": 4,
 "nbformat_minor": 5
}
